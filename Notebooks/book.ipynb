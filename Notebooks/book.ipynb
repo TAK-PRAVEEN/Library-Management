{
 "cells": [
  {
   "cell_type": "code",
   "execution_count": null,
   "metadata": {},
   "outputs": [],
   "source": [
    "class Book:\n",
    "\n",
    "    def __init__(self, title, author, copies):\n",
    "        \"\"\"\"\n",
    "        Initializes the book details.\n",
    "        Args:\n",
    "            title (str): The title of the book.\n",
    "            author (str): The author of the book.\n",
    "            copies (int): The number of copies available in the library.\n",
    "        \"\"\"\n",
    "        self.title = title\n",
    "        self.author = author\n",
    "        self.copies = copies\n",
    "        self.book = {\"Title\" : self.title, \"Author\" : self.author, \"Copies\" : self.copies}\n",
    "\n",
    "    def __str__(self):\n",
    "        \"\"\"\n",
    "        Returns a readable representation of the book details.\n",
    "        \"\"\"\n",
    "        return f\"'{self.title}' by {self.author} (Available Copies): {self.copies}\"\n",
    "    \n",
    "    def borrow_book(self):\n",
    "        \"\"\"\n",
    "        Borrow a copy of the book if available.\n",
    "        Returns:\n",
    "            str: Success or failure message.\n",
    "        \"\"\"\n",
    "        if self.copies > 0:\n",
    "            self.copies -= 1\n",
    "            return f\"You have successfully borrowed '{self.title}'.\"\n",
    "        return f\"'{self.title}' is currently unavailable.\"\n",
    "    \n",
    "    def return_book(self):\n",
    "        \"\"\"\n",
    "        Returns a borrowed copy of the book.\n",
    "        Returns:\n",
    "            str: Success message.\n",
    "        \"\"\"\n",
    "        self.copies += 1\n",
    "        return f\"You have successfully returned '{self.title}.'\"\n"
   ]
  },
  {
   "cell_type": "code",
   "execution_count": null,
   "metadata": {},
   "outputs": [],
   "source": []
  }
 ],
 "metadata": {
  "kernelspec": {
   "display_name": "base",
   "language": "python",
   "name": "python3"
  },
  "language_info": {
   "name": "python",
   "version": "3.12.4"
  }
 },
 "nbformat": 4,
 "nbformat_minor": 2
}
